{
 "cells": [
  {
   "cell_type": "code",
   "execution_count": 1,
   "id": "8347a124-0383-4e94-bd4e-bdc793eba3ca",
   "metadata": {},
   "outputs": [
    {
     "name": "stdout",
     "output_type": "stream",
     "text": [
      "                                                 url  is_spam\n",
      "0  https://briefingday.us8.list-manage.com/unsubs...     True\n",
      "1                             https://www.hvper.com/     True\n",
      "2                 https://briefingday.com/m/v4n3i4f3     True\n",
      "3   https://briefingday.com/n/20200618/m#commentform    False\n",
      "4                        https://briefingday.com/fan     True\n",
      "                                                      url  is_spam\n",
      "148298  https://cdn.substack.com/image/fetch/f_auto,q_...     True\n",
      "148299             https://numlock.substack.com/subscribe     True\n",
      "148300  https://docs.google.com/forms/d/e/1FAIpQLSfDLO...     True\n",
      "148301                     https://bookclub.substack.com/     True\n",
      "148302                       https://awards.substack.com/     True\n"
     ]
    }
   ],
   "source": [
    "import pandas as pd\n",
    "\n",
    "data = pd.read_csv('url_spam_classification.csv')\n",
    "\n",
    "print( data.head() )\n",
    "print( data.tail() )"
   ]
  },
  {
   "cell_type": "code",
   "execution_count": 2,
   "id": "1f82b05e-efe0-4b05-988f-7df9e5d46edf",
   "metadata": {},
   "outputs": [
    {
     "name": "stdout",
     "output_type": "stream",
     "text": [
      "<class 'pandas.core.frame.DataFrame'>\n",
      "RangeIndex: 148303 entries, 0 to 148302\n",
      "Data columns (total 2 columns):\n",
      " #   Column   Non-Null Count   Dtype \n",
      "---  ------   --------------   ----- \n",
      " 0   url      148303 non-null  object\n",
      " 1   is_spam  148303 non-null  bool  \n",
      "dtypes: bool(1), object(1)\n",
      "memory usage: 1.3+ MB\n"
     ]
    }
   ],
   "source": [
    "data.info()"
   ]
  },
  {
   "cell_type": "code",
   "execution_count": 3,
   "id": "4e837b7f-9957-4737-8c18-4d9b0c7e873e",
   "metadata": {},
   "outputs": [
    {
     "data": {
      "text/plain": [
       "url        0\n",
       "is_spam    0\n",
       "dtype: int64"
      ]
     },
     "execution_count": 3,
     "metadata": {},
     "output_type": "execute_result"
    }
   ],
   "source": [
    "data.isnull().sum()"
   ]
  },
  {
   "cell_type": "code",
   "execution_count": 9,
   "id": "d738d84d-effa-48f4-b811-c13785ab1b7c",
   "metadata": {},
   "outputs": [
    {
     "data": {
      "text/plain": [
       "(148303, 2)"
      ]
     },
     "execution_count": 9,
     "metadata": {},
     "output_type": "execute_result"
    }
   ],
   "source": [
    "data.shape"
   ]
  },
  {
   "cell_type": "code",
   "execution_count": 10,
   "id": "d23827ed-4cb3-48a8-aa4b-61d591dfb8ff",
   "metadata": {},
   "outputs": [
    {
     "name": "stdout",
     "output_type": "stream",
     "text": [
      "Accuracy: 0.93\n"
     ]
    }
   ],
   "source": [
    "import pandas as pd\n",
    "from sklearn.feature_extraction.text import TfidfVectorizer\n",
    "from sklearn.model_selection import train_test_split\n",
    "from sklearn.linear_model import SGDClassifier\n",
    "from sklearn.metrics import accuracy_score\n",
    "\n",
    "# Load your large dataset (CSV example)\n",
    "df = pd.read_csv('url_spam_classification.csv')  # Ensure this points to your dataset\n",
    "\n",
    "# Feature Extraction with TF-IDF Vectorizer\n",
    "vectorizer = TfidfVectorizer(max_features=10000)  # Limit features to reduce memory usage\n",
    "X = vectorizer.fit_transform(df['url'])  # Large sparse matrix\n",
    "\n",
    "# Labels\n",
    "y = df['is_spam']\n",
    "\n",
    "# Train-test split\n",
    "X_train, X_test, y_train, y_test = train_test_split(X, y, test_size=0.2, random_state=42)\n",
    "\n",
    "# Use SGDClassifier for large-scale learning\n",
    "model = SGDClassifier()  # Supports incremental learning with partial_fit\n",
    "\n",
    "# Fit the model on training data\n",
    "model.fit(X_train, y_train)\n",
    "\n",
    "# Predictions and evaluation\n",
    "y_pred = model.predict(X_test)\n",
    "accuracy = accuracy_score(y_test, y_pred)\n",
    "print(f\"Accuracy: {accuracy:.2f}\")\n",
    "\n"
   ]
  },
  {
   "cell_type": "code",
   "execution_count": 23,
   "id": "c721798d-d17e-4186-8730-cac5641b915d",
   "metadata": {},
   "outputs": [
    {
     "name": "stdin",
     "output_type": "stream",
     "text": [
      "Enter The String :  https://google.us18.list-manage.com/subscribe\n"
     ]
    },
    {
     "name": "stdout",
     "output_type": "stream",
     "text": [
      "The URL 'https://google.us18.list-manage.com/subscribe' is spam.\n"
     ]
    }
   ],
   "source": [
    "# Assuming your trained model and vectorizer are already loaded\n",
    "\n",
    "# Define the URL you want to check\n",
    "url = str( input(\"Enter The String : \") )\n",
    "single_url = [ url ]\n",
    "\n",
    "# Preprocess the single URL using the same TF-IDF vectorizer\n",
    "single_url_transformed = vectorizer.transform(single_url)\n",
    "\n",
    "# Predict using the trained model\n",
    "prediction = model.predict(single_url_transformed)\n",
    "\n",
    "# Output the result\n",
    "if prediction[0]:\n",
    "    print(f\"The URL '{single_url[0]}' is spam.\")\n",
    "else:\n",
    "    print(f\"The URL '{single_url[0]}' is not spam.\")\n"
   ]
  },
  {
   "cell_type": "code",
   "execution_count": null,
   "id": "2e2f4ba7-d4aa-4584-aece-464fdf174d4d",
   "metadata": {},
   "outputs": [],
   "source": []
  }
 ],
 "metadata": {
  "kernelspec": {
   "display_name": "Python 3 (ipykernel)",
   "language": "python",
   "name": "python3"
  },
  "language_info": {
   "codemirror_mode": {
    "name": "ipython",
    "version": 3
   },
   "file_extension": ".py",
   "mimetype": "text/x-python",
   "name": "python",
   "nbconvert_exporter": "python",
   "pygments_lexer": "ipython3",
   "version": "3.12.3"
  }
 },
 "nbformat": 4,
 "nbformat_minor": 5
}
